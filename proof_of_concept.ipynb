{
 "cells": [
  {
   "cell_type": "markdown",
   "metadata": {
    "id": "tfWWlnBDsVHP"
   },
   "source": [
    "### This is notebook is a proof of concept showing that card counting works and is profitable."
   ]
  },
  {
   "cell_type": "markdown",
   "metadata": {
    "id": "7Q1QWg6Zs2h1"
   },
   "source": [
    "Lets start by creating a shoe to deal from that is properly shuffled.\n",
    "\n",
    "To do this, we create 8 decks and stack them onto each other.\n",
    "To shuffle the decks, we look at the bottom card of the deck, memorize it, and put it back at the bottom of the stack. Take the top card of the deck and look at it. Is that card the card that was originally on the bottom? No? Put it into the deck randomly. Repeat until you find the original bottom card. Place that card in randomly, and BAM you got a randomly shuffled deck."
   ]
  },
  {
   "cell_type": "code",
   "execution_count": 1,
   "metadata": {
    "id": "tAdl0b-s2m3s"
   },
   "outputs": [],
   "source": [
    "from random import randrange"
   ]
  },
  {
   "cell_type": "code",
   "execution_count": 2,
   "metadata": {
    "id": "1HuBY4O-swFi"
   },
   "outputs": [],
   "source": [
    "# returns a list of strings representing an unshuffled new deck\n",
    "# note, strings in Python are immmutable so there is much faster way to do this\n",
    "def getOneDeck():\n",
    "  return [\"As\",\"Ks\",\"Qs\",\"Js\", \"10s\",\"9s\",\"8s\",\"7s\",\"6s\",\"5s\",\"4s\",\"3s\",\"2s\",\"Ac\",\"Kc\",\"Qc\",\"Jc\", \"10c\",\"9c\",\"8c\",\"7c\",\"6c\",\"5c\",\"4c\",\"3c\",\"2c\",\"Ah\",\"Kh\",\"Qh\",\"Jh\",\"10h\",\"9h\",\"8h\",\"7h\",\"6h\",\"5h\",\"4h\",\"3h\",\"2h\",\"Ad\",\"Kd\",\"Qd\",\"Jd\", \"10d\",\"9d\",\"8d\",\"7d\",\"6d\",\"5d\",\"4d\",\"3d\",\"2d\",]"
   ]
  },
  {
   "cell_type": "markdown",
   "metadata": {
    "id": "e5P1hZgJvOuK"
   },
   "source": [
    "Note: We need to make each card uniquely identifiable since we need to shuffle multiple decks"
   ]
  },
  {
   "cell_type": "code",
   "execution_count": 3,
   "metadata": {
    "id": "hp_hdekysUgD"
   },
   "outputs": [],
   "source": [
    "# returns a list of tuples where each tuple is a card with a unique identifier\n",
    "def get_unshuffled_shoe(numDecks):\n",
    "  indentifier = 0\n",
    "  shoe = []\n",
    "  for x in range(numDecks):\n",
    "    tmp = getOneDeck()\n",
    "    for y in tmp:\n",
    "      shoe.append((y, indentifier))\n",
    "      indentifier+=1\n",
    "  return shoe\n"
   ]
  },
  {
   "cell_type": "code",
   "execution_count": 4,
   "metadata": {
    "id": "gAkc5TlO2jXX"
   },
   "outputs": [],
   "source": [
    "def random_insert(lst, item):\n",
    "    lst.insert(randrange(len(lst)+1), item)"
   ]
  },
  {
   "cell_type": "code",
   "execution_count": 5,
   "metadata": {
    "id": "-WvGPAiAyUbW"
   },
   "outputs": [],
   "source": [
    "def get_shuffled_shoe(numDecks):\n",
    "  shoe = get_unshuffled_shoe(numDecks)\n",
    "  bottomCard = shoe[0]\n",
    "  topCard = shoe.pop()\n",
    "  # stops when we reach the memorized bottom card\n",
    "  while topCard != bottomCard:\n",
    "    random_insert(shoe, topCard)\n",
    "    topCard = shoe.pop()\n",
    "  random_insert(shoe, topCard)\n",
    "  return shoe  "
   ]
  },
  {
   "cell_type": "code",
   "execution_count": 7,
   "metadata": {},
   "outputs": [
    {
     "name": "stdout",
     "output_type": "stream",
     "text": [
      "[('3s', 11), ('7c', 332), ('7h', 189), ('6d', 411), ('10c', 277), ('2c', 181), ('4c', 23), ('7h', 397), ('8c', 279), ('Kc', 118), ('3s', 323), ('Ad', 403), ('3c', 24), ('Qd', 405), ('5c', 230), ('2d', 311), ('2c', 129), ('9d', 200), ('3d', 50), ('6c', 125), ('Ks', 105), ('5d', 152), ('Js', 3), ('Qh', 288), ('4s', 218), ('5s', 217), ('9s', 265), ('4d', 153), ('8d', 253), ('5d', 100), ('7c', 124), ('5d', 48), ('Qc', 275), ('9h', 135), ('4c', 75), ('Qs', 210), ('Jd', 146), ('8c', 71), ('4h', 36), ('Ah', 234), ('Qs', 106), ('4h', 88), ('3d', 258), ('Qc', 67), ('9d', 252), ('Ks', 261), ('10s', 316), ('10c', 17), ('2h', 90), ('2s', 168), ('8h', 396), ('6h', 294), ('9h', 291), ('3s', 115), ('3c', 284), ('Qh', 28), ('2s', 64), ('3s', 271), ('As', 208), ('Js', 315), ('Jd', 42), ('9d', 96), ('8h', 188), ('7d', 150), ('5h', 35), ('7s', 163), ('Kd', 352), ('7s', 371), ('2d', 103), ('8h', 32), ('Qh', 340), ('Jh', 29), ('9h', 395), ('Ah', 78), ('Qs', 262), ('10h', 342), ('2c', 77), ('2s', 272), ('Qh', 80), ('2h', 246), ('10c', 69), ('Qc', 15), ('8h', 344), ('Ah', 390), ('Kd', 404), ('6s', 112), ('Ac', 273), ('Jh', 133), ('Qh', 132), ('Ad', 91), ('2d', 259), ('7h', 85), ('7d', 46), ('Kh', 79), ('7d', 410), ('Qd', 41), ('Ks', 1), ('4s', 62), ('10s', 368), ('3h', 401), ('7h', 241), ('6c', 73), ('6c', 281), ('3c', 180), ('2h', 194), ('8d', 305), ('10d', 199), ('Jh', 81), ('Js', 107), ('Ks', 157), ('9d', 304), ('10h', 186), ('Qc', 379), ('10c', 173), ('2h', 38), ('10h', 30), ('Jd', 406), ('2h', 142), ('Kd', 248), ('8s', 58), ('6c', 229), ('5s', 113), ('5s', 269), ('4c', 387), ('Qd', 145), ('5h', 295), ('Jc', 224), ('6s', 320), ('4h', 348), ('Kc', 326), ('4s', 270), ('4h', 296), ('Ad', 143), ('5d', 308), ('3d', 362), ('6h', 398), ('8d', 97), ('9s', 161), ('8s', 318), ('Kc', 170), ('9d', 408), ('5h', 243), ('5c', 126), ('6d', 359), ('6h', 346), ('10d', 303), ('10c', 121), ('8d', 45), ('Kc', 222), ('10c', 381), ('3h', 89), ('6s', 216), ('4d', 101), ('Qd', 197), ('7d', 202), ('8c', 383), ('6s', 164), ('6d', 47), ('2h', 350), ('9s', 369), ('Kh', 27), ('6s', 8), ('Jc', 68), ('7s', 267), ('3d', 206), ('2d', 207), ('Kc', 66), ('6s', 268), ('9c', 226), ('7s', 111), ('7c', 72), ('9s', 5), ('4s', 322), ('4s', 374), ('8c', 331), ('Ac', 221), ('Ac', 169), ('7c', 20), ('10d', 251), ('3c', 232), ('8h', 136), ('Qh', 392), ('4c', 179), ('8h', 240), ('10s', 56), ('7h', 33), ('2c', 337), ('8h', 292), ('Ac', 325), ('Ah', 182), ('7h', 345), ('2c', 389), ('7h', 137), ('3h', 297), ('9s', 109), ('8d', 149), ('10d', 355), ('3h', 349), ('Ks', 365), ('7d', 306), ('Jd', 198), ('2d', 51), ('Ks', 209), ('Qc', 223), ('9c', 330), ('4h', 192), ('8c', 123), ('Jc', 328), ('9h', 343), ('Qd', 301), ('Ac', 117), ('Kc', 14), ('5s', 165), ('7c', 176), ('4h', 400), ('Kd', 92), ('9h', 239), ('10s', 4), ('6h', 190), ('9c', 174), ('10h', 82), ('5s', 321), ('Ad', 299), ('10s', 108), ('4s', 10), ('3h', 245), ('8c', 227), ('3d', 154), ('5h', 347), ('Jd', 354), ('9c', 70), ('5c', 178), ('6c', 177), ('3c', 388), ('As', 104), ('9h', 83), ('Jh', 289), ('As', 364), ('3s', 375), ('6s', 60), ('4s', 114), ('10h', 238), ('10s', 212), ('5s', 9), ('Kd', 144), ('5d', 360), ('As', 312), ('Qc', 171), ('As', 156), ('As', 0), ('9h', 31), ('2s', 376), ('Jc', 16), ('2s', 116), ('9c', 278), ('Jd', 302), ('Kh', 235), ('4c', 127), ('8c', 175), ('2c', 285), ('Ad', 247), ('2h', 298), ('5c', 74), ('As', 52), ('9d', 356), ('Ac', 65), ('7h', 293), ('3h', 37), ('Js', 159), ('2s', 324), ('9h', 187), ('3d', 310), ('Kd', 196), ('4h', 244), ('4d', 413), ('10c', 329), ('5c', 334), ('6h', 138), ('Js', 55), ('Jh', 341), ('9c', 382), ('5d', 256), ('Qs', 54), ('9s', 213), ('3c', 76), ('7s', 319), ('6s', 372), ('Kh', 339), ('9d', 44), ('7d', 358), ('Qc', 327), ('Qh', 184), ('9d', 148), ('2h', 402), ('Js', 367), ('5h', 87), ('5d', 204), ('Ac', 377), ('Jh', 393), ('8s', 162), ('4c', 283), ('2c', 233), ('10s', 264), ('3c', 128), ('9c', 122), ('4h', 140), ('7s', 59), ('8d', 201), ('Jc', 380), ('Qs', 366), ('Qd', 249), ('10s', 160), ('3h', 141), ('Ah', 26), ('8s', 214), ('Ac', 13), ('10h', 290), ('5h', 399), ('Kd', 40), ('10d', 407), ('5s', 61), ('4d', 49), ('5s', 373), ('Qs', 314), ('3h', 193), ('5h', 139), ('4c', 231), ('Jh', 237), ('Ks', 53), ('Kh', 287), ('6d', 203), ('7s', 215), ('9s', 57), ('8s', 266), ('10h', 134), ('2s', 12), ('Ad', 351), ('9s', 317), ('8s', 110), ('Jd', 250), ('10d', 95), ('8d', 409), ('7d', 98), ('Qd', 353), ('6h', 34), ('4d', 205), ('Js', 211), ('Kd', 300), ('4s', 166), ('5c', 282), ('7d', 254), ('4d', 361), ('3s', 219), ('3s', 63), ('Ah', 286), ('Kh', 391), ('8d', 357), ('5d', 412), ('Js', 263), ('Ad', 39), ('Qh', 236), ('Kc', 378), ('6h', 242), ('10h', 394), ('Ah', 130), ('8c', 19), ('5c', 386), ('4c', 335), ('10d', 43), ('10d', 147), ('6d', 255), ('As', 260), ('Jd', 94), ('2c', 25), ('Qs', 158), ('8s', 370), ('3s', 167), ('7s', 7), ('7c', 228), ('Kh', 183), ('Kc', 274), ('4d', 257), ('2s', 220), ('6c', 385), ('8h', 84), ('Jc', 276), ('Ad', 195), ('2d', 415), ('Jc', 120), ('6d', 307), ('2d', 363), ('3d', 414), ('Ah', 338), ('3c', 336), ('6h', 86), ('Jh', 185), ('10c', 225), ('4d', 309), ('6c', 21), ('Ks', 313), ('6d', 99), ('3d', 102), ('5c', 22), ('6c', 333), ('7c', 280), ('6d', 151), ('7c', 384), ('2d', 155), ('Qc', 119), ('Jc', 172), ('Qd', 93), ('Qs', 2), ('9c', 18), ('Kh', 131), ('5h', 191), ('8s', 6)]\n"
     ]
    }
   ],
   "source": [
    "print(get_shuffled_shoe(8))"
   ]
  },
  {
   "cell_type": "markdown",
   "metadata": {
    "id": "VQ2xxUgj3Yso"
   },
   "source": [
    "Ok so now we can make a shuffled shoe of any size!\n",
    "\n",
    "Now lets start counting.\n",
    "\n",
    "Check out blackjack-trainer.net on how to do this. I didn't realize this was already a website, so we are basically just cloning this site lmao"
   ]
  }
 ],
 "metadata": {
  "colab": {
   "name": "proof_of_concept.ipynb",
   "provenance": []
  },
  "kernelspec": {
   "display_name": "Python 3",
   "language": "python",
   "name": "python3"
  },
  "language_info": {
   "codemirror_mode": {
    "name": "ipython",
    "version": 3
   },
   "file_extension": ".py",
   "mimetype": "text/x-python",
   "name": "python",
   "nbconvert_exporter": "python",
   "pygments_lexer": "ipython3",
   "version": "3.9.1"
  }
 },
 "nbformat": 4,
 "nbformat_minor": 1
}
