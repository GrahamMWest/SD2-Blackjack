{
  "nbformat": 4,
  "nbformat_minor": 0,
  "metadata": {
    "colab": {
      "name": "proof_of_concept.ipynb",
      "provenance": []
    },
    "kernelspec": {
      "name": "python3",
      "display_name": "Python 3"
    },
    "language_info": {
      "name": "python"
    }
  },
  "cells": [
    {
      "cell_type": "markdown",
      "metadata": {
        "id": "tfWWlnBDsVHP"
      },
      "source": [
        "### This is notebook is a proof of concept showing that card counting works and is profitable."
      ]
    },
    {
      "cell_type": "markdown",
      "metadata": {
        "id": "7Q1QWg6Zs2h1"
      },
      "source": [
        "Lets start by creating a shoe to deal from that is properly shuffled.\n",
        "\n",
        "To do this, we create 8 decks and stack them onto each other.\n",
        "To shuffle the decks, we look at the bottom card of the deck, memorize it, and put it back at the bottom of the stack. Take the top card of the deck and look at it. Is that card the card that was originally on the bottom? No? Put it into the deck randomly. Repeat until you find the original bottom card. Place that card in randomly, and BAM you got a randomly shuffled deck."
      ]
    },
    {
      "cell_type": "code",
      "metadata": {
        "id": "tAdl0b-s2m3s"
      },
      "source": [
        "from random import randrange"
      ],
      "execution_count": null,
      "outputs": []
    },
    {
      "cell_type": "code",
      "metadata": {
        "id": "1HuBY4O-swFi"
      },
      "source": [
        "# returns a list of strings representing an unshuffled new deck\n",
        "# note, strings in Python are immmutable so there is much faster way to do this\n",
        "def getOneDeck():\n",
        "  return [\"As\",\"Ks\",\"Qs\",\"Js\", \"10s\",\"9s\",\"8s\",\"7s\",\"6s\",\"5s\",\"4s\",\"3s\",\"2s\",\"Ac\",\"Kc\",\"Qc\",\"Jc\", \"10c\",\"9c\",\"8c\",\"7c\",\"6c\",\"5c\",\"4c\",\"3c\",\"2c\",\"Ah\",\"Kh\",\"Qh\",\"Jh\",\"10h\",\"9h\",\"8h\",\"7h\",\"6h\",\"5h\",\"4h\",\"3h\",\"2h\",\"Ad\",\"Kd\",\"Qd\",\"Jd\", \"10d\",\"9d\",\"8d\",\"7d\",\"6d\",\"5d\",\"4d\",\"3d\",\"2d\",]"
      ],
      "execution_count": null,
      "outputs": []
    },
    {
      "cell_type": "markdown",
      "metadata": {
        "id": "e5P1hZgJvOuK"
      },
      "source": [
        "Note: We need to make each card uniquely identifiable since we need to shuffle multiple decks"
      ]
    },
    {
      "cell_type": "code",
      "metadata": {
        "id": "hp_hdekysUgD"
      },
      "source": [
        "# returns a list of tuples where each tuple is a card with a unique identifier\n",
        "def get_unshuffled_shoe(numDecks):\n",
        "  indentifier = 0\n",
        "  shoe = []\n",
        "  for x in range(numDecks):\n",
        "    tmp = getOneDeck()\n",
        "    for y in tmp:\n",
        "      shoe.append((y, indentifier))\n",
        "      indentifier+=1\n",
        "  return shoe\n"
      ],
      "execution_count": null,
      "outputs": []
    },
    {
      "cell_type": "code",
      "metadata": {
        "id": "gAkc5TlO2jXX"
      },
      "source": [
        "def random_insert(lst, item):\n",
        "    lst.insert(randrange(len(lst)+1), item)"
      ],
      "execution_count": null,
      "outputs": []
    },
    {
      "cell_type": "code",
      "metadata": {
        "id": "-WvGPAiAyUbW"
      },
      "source": [
        "def get_shuffled_shoe(numDecks):\n",
        "  shoe = get_unshuffled_shoe(numDecks)\n",
        "  bottomCard = shoe[0]\n",
        "  topCard = shoe.pop()\n",
        "  # stops when we reach the memorized bottom card\n",
        "  while topCard != bottomCard:\n",
        "    random_insert(shoe, topCard)\n",
        "    topCard = shoe.pop()\n",
        "  random_insert(shoe, topCard)\n",
        "  return shoe\n",
        "  \n",
        "  \n",
        "  \n",
        "    "
      ],
      "execution_count": null,
      "outputs": []
    },
    {
      "cell_type": "markdown",
      "metadata": {
        "id": "VQ2xxUgj3Yso"
      },
      "source": [
        "Ok so now we can make a shuffled shoe of any size! Now lets start counting."
      ]
    },
    {
      "cell_type": "code",
      "metadata": {
        "id": "tZNWusXb3XgW"
      },
      "source": [
        "\n",
        "\n",
        "bankroll = 1000\n",
        "runningCount = 0\n",
        "true count = 0\n"
      ],
      "execution_count": null,
      "outputs": []
    }
  ]
}