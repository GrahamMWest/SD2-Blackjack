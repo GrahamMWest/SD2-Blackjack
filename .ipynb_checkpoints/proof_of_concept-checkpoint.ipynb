{
 "cells": [
  {
   "cell_type": "markdown",
   "metadata": {
    "id": "tfWWlnBDsVHP"
   },
   "source": [
    "### This is notebook is a proof of concept showing that card counting works and is profitable."
   ]
  },
  {
   "cell_type": "markdown",
   "metadata": {
    "id": "7Q1QWg6Zs2h1"
   },
   "source": [
    "Lets start by creating a shoe to deal from that is properly shuffled.\n",
    "\n",
    "To do this, we create 8 decks and stack them onto each other.\n",
    "To shuffle the decks, we look at the bottom card of the deck, memorize it, and put it back at the bottom of the stack. Take the top card of the deck and look at it. Is that card the card that was originally on the bottom? No? Put it into the deck randomly. Repeat until you find the original bottom card. Place that card in randomly, and BAM you got a randomly shuffled deck."
   ]
  },
  {
   "cell_type": "code",
   "execution_count": null,
   "metadata": {
    "id": "tAdl0b-s2m3s"
   },
   "outputs": [],
   "source": [
    "from random import randrange"
   ]
  },
  {
   "cell_type": "code",
   "execution_count": null,
   "metadata": {
    "id": "1HuBY4O-swFi"
   },
   "outputs": [],
   "source": [
    "# returns a list of strings representing an unshuffled new deck\n",
    "# note, strings in Python are immmutable so there is much faster way to do this\n",
    "def getOneDeck():\n",
    "  return [\"As\",\"Ks\",\"Qs\",\"Js\", \"10s\",\"9s\",\"8s\",\"7s\",\"6s\",\"5s\",\"4s\",\"3s\",\"2s\",\"Ac\",\"Kc\",\"Qc\",\"Jc\", \"10c\",\"9c\",\"8c\",\"7c\",\"6c\",\"5c\",\"4c\",\"3c\",\"2c\",\"Ah\",\"Kh\",\"Qh\",\"Jh\",\"10h\",\"9h\",\"8h\",\"7h\",\"6h\",\"5h\",\"4h\",\"3h\",\"2h\",\"Ad\",\"Kd\",\"Qd\",\"Jd\", \"10d\",\"9d\",\"8d\",\"7d\",\"6d\",\"5d\",\"4d\",\"3d\",\"2d\",]"
   ]
  },
  {
   "cell_type": "markdown",
   "metadata": {
    "id": "e5P1hZgJvOuK"
   },
   "source": [
    "Note: We need to make each card uniquely identifiable since we need to shuffle multiple decks"
   ]
  },
  {
   "cell_type": "code",
   "execution_count": null,
   "metadata": {
    "id": "hp_hdekysUgD"
   },
   "outputs": [],
   "source": [
    "# returns a list of tuples where each tuple is a card with a unique identifier\n",
    "def get_unshuffled_shoe(numDecks):\n",
    "  indentifier = 0\n",
    "  shoe = []\n",
    "  for x in range(numDecks):\n",
    "    tmp = getOneDeck()\n",
    "    for y in tmp:\n",
    "      shoe.append((y, indentifier))\n",
    "      indentifier+=1\n",
    "  return shoe\n"
   ]
  },
  {
   "cell_type": "code",
   "execution_count": null,
   "metadata": {
    "id": "gAkc5TlO2jXX"
   },
   "outputs": [],
   "source": [
    "def random_insert(lst, item):\n",
    "    lst.insert(randrange(len(lst)+1), item)"
   ]
  },
  {
   "cell_type": "code",
   "execution_count": null,
   "metadata": {},
   "outputs": [],
   "source": []
  },
  {
   "cell_type": "code",
   "execution_count": null,
   "metadata": {
    "id": "-WvGPAiAyUbW"
   },
   "outputs": [],
   "source": [
    "def get_shuffled_shoe(numDecks):\n",
    "  shoe = get_unshuffled_shoe(numDecks)\n",
    "  bottomCard = shoe[0]\n",
    "  topCard = shoe.pop()\n",
    "  # stops when we reach the memorized bottom card\n",
    "  while topCard != bottomCard:\n",
    "    random_insert(shoe, topCard)\n",
    "    topCard = shoe.pop()\n",
    "  random_insert(shoe, topCard)\n",
    "  return shoe\n",
    "  \n",
    "  \n",
    "  \n",
    "    "
   ]
  },
  {
   "cell_type": "markdown",
   "metadata": {
    "id": "VQ2xxUgj3Yso"
   },
   "source": [
    "Ok so now we can make a shuffled shoe of any size! Now lets start counting.\n",
    "\n",
    "Check out blackjack-trainer.net on how to do this. I didn't realize this was already a website, so we are basically just cloning this site lmao"
   ]
  },
  {
   "cell_type": "code",
   "execution_count": null,
   "metadata": {
    "id": "tZNWusXb3XgW"
   },
   "outputs": [],
   "source": []
  },
  {
   "cell_type": "code",
   "execution_count": null,
   "metadata": {},
   "outputs": [],
   "source": []
  }
 ],
 "metadata": {
  "colab": {
   "name": "proof_of_concept.ipynb",
   "provenance": []
  },
  "kernelspec": {
   "display_name": "Python 3",
   "language": "python",
   "name": "python3"
  },
  "language_info": {
   "codemirror_mode": {
    "name": "ipython",
    "version": 3
   },
   "file_extension": ".py",
   "mimetype": "text/x-python",
   "name": "python",
   "nbconvert_exporter": "python",
   "pygments_lexer": "ipython3",
   "version": "3.9.1"
  }
 },
 "nbformat": 4,
 "nbformat_minor": 1
}
